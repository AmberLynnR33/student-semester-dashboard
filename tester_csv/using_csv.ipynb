{
 "cells": [
  {
   "cell_type": "code",
   "execution_count": 1,
   "id": "3ad353bf",
   "metadata": {},
   "outputs": [],
   "source": [
    "# imports\n",
    "\n",
    "import pandas as pd \n",
    "import numpy as np"
   ]
  },
  {
   "cell_type": "code",
   "execution_count": null,
   "id": "12ab37b4",
   "metadata": {},
   "outputs": [
    {
     "name": "stderr",
     "output_type": "stream",
     "text": [
      "C:\\Users\\pmkit\\AppData\\Local\\Temp\\ipykernel_11272\\2994217297.py:5: SettingWithCopyWarning: \n",
      "A value is trying to be set on a copy of a slice from a DataFrame\n",
      "\n",
      "See the caveats in the documentation: https://pandas.pydata.org/pandas-docs/stable/user_guide/indexing.html#returning-a-view-versus-a-copy\n",
      "  dashboard.dropna(axis=0, how='all', inplace=True)\n",
      "C:\\Users\\pmkit\\AppData\\Local\\Temp\\ipykernel_11272\\2994217297.py:7: SettingWithCopyWarning: \n",
      "A value is trying to be set on a copy of a slice from a DataFrame\n",
      "\n",
      "See the caveats in the documentation: https://pandas.pydata.org/pandas-docs/stable/user_guide/indexing.html#returning-a-view-versus-a-copy\n",
      "  courses.dropna(axis=0, how='all', inplace=True)\n",
      "C:\\Users\\pmkit\\AppData\\Local\\Temp\\ipykernel_11272\\2994217297.py:9: SettingWithCopyWarning: \n",
      "A value is trying to be set on a copy of a slice from a DataFrame\n",
      "\n",
      "See the caveats in the documentation: https://pandas.pydata.org/pandas-docs/stable/user_guide/indexing.html#returning-a-view-versus-a-copy\n",
      "  degree.dropna(axis=0, how='all', inplace=True)\n"
     ]
    }
   ],
   "source": [
    "test_df = pd.read_csv('example_spreadsheet.csv')\n",
    "test_df.replace('', np.nan, inplace=True)\n",
    "\n",
    "dashboard = test_df[['item', 'course', 'status', 'content_type', 'due', 'grade', 'weight']]\n",
    "dashboard.dropna(axis=0, how='all', inplace=True)\n",
    "courses = test_df[['courses', 'courses_cred_num', 'courses_grades']]\n",
    "courses.dropna(axis=0, how='all', inplace=True)\n",
    "degree = test_df[['programs_req', 'programs_name', 'programs_cred_needed', 'programs_courses_apply']]\n",
    "degree.dropna(axis=0, how='all', inplace=True)"
   ]
  },
  {
   "cell_type": "code",
   "execution_count": 7,
   "id": "23f9fb26",
   "metadata": {},
   "outputs": [
    {
     "name": "stdout",
     "output_type": "stream",
     "text": [
      "3\n"
     ]
    }
   ],
   "source": [
    "def largest_df(df1: pd.DataFrame, df2: pd.DataFrame, df3: pd.DataFrame) -> int:\n",
    "    \"\"\"\n",
    "    Return the number of rows in the largest dataframe between 'df1', 'df2', and 'df3'.\n",
    "    \"\"\"\n",
    "    row_1 = df1.shape[0]\n",
    "    row_2 = df2.shape[0]\n",
    "    row_3 = df3.shape[0]\n",
    "\n",
    "    return max(row_1, row_2, row_3)\n",
    "\n",
    "print(largest_df(dashboard, courses, degree))"
   ]
  }
 ],
 "metadata": {
  "kernelspec": {
   "display_name": "Python 3",
   "language": "python",
   "name": "python3"
  },
  "language_info": {
   "codemirror_mode": {
    "name": "ipython",
    "version": 3
   },
   "file_extension": ".py",
   "mimetype": "text/x-python",
   "name": "python",
   "nbconvert_exporter": "python",
   "pygments_lexer": "ipython3",
   "version": "3.10.7"
  }
 },
 "nbformat": 4,
 "nbformat_minor": 5
}
